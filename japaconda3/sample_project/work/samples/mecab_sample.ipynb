{
 "cells": [
  {
   "cell_type": "code",
   "execution_count": 1,
   "metadata": {},
   "outputs": [],
   "source": [
    "from typing import List, Tuple, Iterator\n",
    "\n",
    "import MeCab"
   ]
  },
  {
   "cell_type": "code",
   "execution_count": 2,
   "metadata": {},
   "outputs": [],
   "source": [
    "sample_text = \"\"\"\n",
    "8月3日に放送された「中居正広の金曜日のスマイルたちへ」(TBS系)で、\n",
    "1日たった5分でぽっこりおなかを解消するというダイエット方法を紹介。\n",
    "キンタロー。のダイエットにも密着。\n",
    "\"\"\""
   ]
  },
  {
   "cell_type": "markdown",
   "metadata": {},
   "source": [
    "# 単語間にスペース入れる"
   ]
  },
  {
   "cell_type": "code",
   "execution_count": 3,
   "metadata": {},
   "outputs": [
    {
     "name": "stdout",
     "output_type": "stream",
     "text": [
      "8月3日\tハチガツミッカ\t8月3日\t名詞-固有名詞-一般\t\t\n",
      "に\tニ\tに\t助詞-格助詞-一般\t\t\n",
      "放送\tホウソウ\t放送\t名詞-サ変接続\t\t\n",
      "さ\tサ\tする\t動詞-自立\tサ変・スル\t未然レル接続\n",
      "れ\tレ\tれる\t動詞-接尾\t一段\t連用形\n",
      "た\tタ\tた\t助動詞\t特殊・タ\t基本形\n",
      "「\t「\t「\t記号-括弧開\t\t\n",
      "中居正広の金曜日のスマイルたちへ\tナカイマサヒロノキンヨウビノスマイルタチヘ\t中居正広の金曜日のスマイルたちへ\t名詞-固有名詞-一般\t\t\n",
      "」(\t」(\t」(\t記号-一般\t\t\n",
      "TBS\tティービーエス\tTBS\t名詞-固有名詞-一般\t\t\n",
      "系\tケイ\t系\t名詞-接尾-一般\t\t\n",
      ")\t)\t)\t記号-一般\t\t\n",
      "で\tデ\tだ\t助動詞\t特殊・ダ\t連用形\n",
      "、\t、\t、\t記号-読点\t\t\n",
      "1日\tツイタチ\t1日\t名詞-固有名詞-一般\t\t\n",
      "たった\tタッタ\tたった\t副詞-助詞類接続\t\t\n",
      "5分\tゴフン\t5分\t名詞-固有名詞-一般\t\t\n",
      "で\tデ\tで\t助詞-格助詞-一般\t\t\n",
      "ぽっこり\tポッコリ\tぽっこり\t副詞-一般\t\t\n",
      "おなか\tオナカ\tおなか\t名詞-一般\t\t\n",
      "を\tヲ\tを\t助詞-格助詞-一般\t\t\n",
      "解消\tカイショウ\t解消\t名詞-サ変接続\t\t\n",
      "する\tスル\tする\t動詞-自立\tサ変・スル\t基本形\n",
      "という\tトイウ\tという\t助詞-格助詞-連語\t\t\n",
      "ダイエット方法\tダイエットホウホウ\tダイエット方法\t名詞-固有名詞-一般\t\t\n",
      "を\tヲ\tを\t助詞-格助詞-一般\t\t\n",
      "紹介\tショウカイ\t紹介\t名詞-サ変接続\t\t\n",
      "。\t。\t。\t記号-句点\t\t\n",
      "キンタロー。\tキンタロー\tキンタロー。\t名詞-固有名詞-一般\t\t\n",
      "の\tノ\tの\t助詞-連体化\t\t\n",
      "ダイエット\tダイエット\tダイエット\t名詞-サ変接続\t\t\n",
      "に\tニ\tに\t助詞-格助詞-一般\t\t\n",
      "も\tモ\tも\t助詞-係助詞\t\t\n",
      "密着\tミッチャク\t密着\t名詞-サ変接続\t\t\n",
      "。\t。\t。\t記号-句点\t\t\n",
      "EOS\n",
      " \n",
      "\n"
     ]
    }
   ],
   "source": [
    "tagger = MeCab.Tagger(\"-Ochasen\")\n",
    "tagger.parse('')\n",
    "# result = tagger.parse(\"ドラゴンクエストは最高\")\n",
    "result = tagger.parse(sample_text)\n",
    "print(result, \"\\n\")"
   ]
  },
  {
   "cell_type": "markdown",
   "metadata": {},
   "source": [
    "# 単語のリストを取得"
   ]
  },
  {
   "cell_type": "code",
   "execution_count": 4,
   "metadata": {},
   "outputs": [],
   "source": [
    "def get_word_list(text: str) -> List[str]:\n",
    "    tagger = MeCab.Tagger('-Owakati')\n",
    "    result = tagger.parse(text)\n",
    "    return result.split(' ')[:-1]"
   ]
  },
  {
   "cell_type": "code",
   "execution_count": 5,
   "metadata": {},
   "outputs": [
    {
     "data": {
      "text/plain": [
       "['8月3日',\n",
       " 'に',\n",
       " '放送',\n",
       " 'さ',\n",
       " 'れ',\n",
       " 'た',\n",
       " '「',\n",
       " '中居正広の金曜日のスマイルたちへ',\n",
       " '」(',\n",
       " 'TBS',\n",
       " '系',\n",
       " ')',\n",
       " 'で',\n",
       " '、',\n",
       " '1日',\n",
       " 'たった',\n",
       " '5分',\n",
       " 'で',\n",
       " 'ぽっこり',\n",
       " 'おなか',\n",
       " 'を',\n",
       " '解消',\n",
       " 'する',\n",
       " 'という',\n",
       " 'ダイエット方法',\n",
       " 'を',\n",
       " '紹介',\n",
       " '。',\n",
       " 'キンタロー。',\n",
       " 'の',\n",
       " 'ダイエット',\n",
       " 'に',\n",
       " 'も',\n",
       " '密着',\n",
       " '。']"
      ]
     },
     "execution_count": 5,
     "metadata": {},
     "output_type": "execute_result"
    }
   ],
   "source": [
    "get_word_list(sample_text)"
   ]
  },
  {
   "cell_type": "markdown",
   "metadata": {},
   "source": [
    "# 単語と品詞のIteratorを取得"
   ]
  },
  {
   "cell_type": "code",
   "execution_count": 6,
   "metadata": {},
   "outputs": [],
   "source": [
    "def get_word_pos_iterator(text: str) -> Iterator[Tuple[str, str]]:\n",
    "    tagger = MeCab.Tagger('-Ochasen')\n",
    "    tagger.parse('')\n",
    "    result = tagger.parse(text)\n",
    "    for chunk in result.split('\\n'):\n",
    "        if chunk == 'EOS':\n",
    "            break\n",
    "        features = chunk.split('\\t')\n",
    "        word = features[0]\n",
    "        pos = features[3].split('-')[0]\n",
    "        yield word, pos"
   ]
  },
  {
   "cell_type": "code",
   "execution_count": 7,
   "metadata": {},
   "outputs": [
    {
     "name": "stdout",
     "output_type": "stream",
     "text": [
      "ドラゴンクエスト 名詞\n",
      "は 助詞\n",
      "最高 名詞\n"
     ]
    }
   ],
   "source": [
    "for w, p in get_word_pos_iterator(\"ドラゴンクエストは最高\"):\n",
    "    print(w, p)"
   ]
  },
  {
   "cell_type": "code",
   "execution_count": 8,
   "metadata": {},
   "outputs": [
    {
     "name": "stdout",
     "output_type": "stream",
     "text": [
      "8月3日 名詞\n",
      "に 助詞\n",
      "放送 名詞\n",
      "さ 動詞\n",
      "れ 動詞\n",
      "た 助動詞\n",
      "「 記号\n",
      "中居正広の金曜日のスマイルたちへ 名詞\n",
      "」( 記号\n",
      "TBS 名詞\n",
      "系 名詞\n",
      ") 記号\n",
      "で 助動詞\n",
      "、 記号\n",
      "1日 名詞\n",
      "たった 副詞\n",
      "5分 名詞\n",
      "で 助詞\n",
      "ぽっこり 副詞\n",
      "おなか 名詞\n",
      "を 助詞\n",
      "解消 名詞\n",
      "する 動詞\n",
      "という 助詞\n",
      "ダイエット方法 名詞\n",
      "を 助詞\n",
      "紹介 名詞\n",
      "。 記号\n",
      "キンタロー。 名詞\n",
      "の 助詞\n",
      "ダイエット 名詞\n",
      "に 助詞\n",
      "も 助詞\n",
      "密着 名詞\n",
      "。 記号\n"
     ]
    }
   ],
   "source": [
    "for w, p in get_word_pos_iterator(sample_text):\n",
    "    print(w, p)"
   ]
  }
 ],
 "metadata": {
  "kernelspec": {
   "display_name": "Python 3",
   "language": "python",
   "name": "python3"
  },
  "language_info": {
   "codemirror_mode": {
    "name": "ipython",
    "version": 3
   },
   "file_extension": ".py",
   "mimetype": "text/x-python",
   "name": "python",
   "nbconvert_exporter": "python",
   "pygments_lexer": "ipython3",
   "version": "3.6.5"
  }
 },
 "nbformat": 4,
 "nbformat_minor": 2
}
