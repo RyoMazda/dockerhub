{
 "cells": [
  {
   "cell_type": "code",
   "execution_count": 1,
   "metadata": {},
   "outputs": [],
   "source": [
    "from typing import List, Tuple, Iterator\n",
    "\n",
    "import MeCab"
   ]
  },
  {
   "cell_type": "code",
   "execution_count": 2,
   "metadata": {},
   "outputs": [],
   "source": [
    "sample_text = 'ドラゴンクエストは最高'"
   ]
  },
  {
   "cell_type": "markdown",
   "metadata": {},
   "source": [
    "# 単語間にスペース入れる"
   ]
  },
  {
   "cell_type": "code",
   "execution_count": 3,
   "metadata": {},
   "outputs": [
    {
     "name": "stdout",
     "output_type": "stream",
     "text": [
      "ドラゴンクエスト\tドラゴンクエスト\tDragon Quest\t名詞-固有名詞-一般\t\t\n",
      "は\tハ\tは\t助詞-係助詞\t\t\n",
      "最高\tサイコウ\t最高\t名詞-一般\t\t\n",
      "EOS\n",
      " \n",
      "\n"
     ]
    }
   ],
   "source": [
    "tagger = MeCab.Tagger(\"-Ochasen\")\n",
    "result = tagger.parse(sample_text)\n",
    "print(result, \"\\n\")"
   ]
  },
  {
   "cell_type": "markdown",
   "metadata": {},
   "source": [
    "# 単語のリストを取得"
   ]
  },
  {
   "cell_type": "code",
   "execution_count": 4,
   "metadata": {},
   "outputs": [],
   "source": [
    "def get_word_list(text: str) -> List[str]:\n",
    "    tagger = MeCab.Tagger('-Owakati')\n",
    "    result = tagger.parse(sample_text)\n",
    "    return result.split(' ')[:-1]"
   ]
  },
  {
   "cell_type": "code",
   "execution_count": 5,
   "metadata": {},
   "outputs": [
    {
     "data": {
      "text/plain": [
       "['ドラゴンクエスト', 'は', '最高']"
      ]
     },
     "execution_count": 5,
     "metadata": {},
     "output_type": "execute_result"
    }
   ],
   "source": [
    "get_word_list(sample_text)"
   ]
  },
  {
   "cell_type": "markdown",
   "metadata": {},
   "source": [
    "# 単語と品詞のIteratorを取得"
   ]
  },
  {
   "cell_type": "code",
   "execution_count": 6,
   "metadata": {},
   "outputs": [],
   "source": [
    "def get_word_pos_iterator(text: str) -> Iterator[Tuple[str, str]]:\n",
    "    tagger = MeCab.Tagger('-Ochasen')\n",
    "    tagger.parse('')\n",
    "    result = tagger.parse(text)\n",
    "    for chunk in result.split('\\n'):\n",
    "        if chunk == 'EOS':\n",
    "            break\n",
    "        features = chunk.split('\\t')\n",
    "        word = features[0]\n",
    "        pos = features[3].split('-')[0]\n",
    "        yield word, pos"
   ]
  },
  {
   "cell_type": "code",
   "execution_count": 7,
   "metadata": {},
   "outputs": [
    {
     "name": "stdout",
     "output_type": "stream",
     "text": [
      "ドラゴンクエスト 名詞\n",
      "は 助詞\n",
      "最高 名詞\n"
     ]
    }
   ],
   "source": [
    "for w, p in get_word_pos_iterator(sample_text):\n",
    "    print(w, p)"
   ]
  },
  {
   "cell_type": "code",
   "execution_count": null,
   "metadata": {},
   "outputs": [],
   "source": []
  }
 ],
 "metadata": {
  "kernelspec": {
   "display_name": "Python 3",
   "language": "python",
   "name": "python3"
  },
  "language_info": {
   "codemirror_mode": {
    "name": "ipython",
    "version": 3
   },
   "file_extension": ".py",
   "mimetype": "text/x-python",
   "name": "python",
   "nbconvert_exporter": "python",
   "pygments_lexer": "ipython3",
   "version": "3.6.5"
  }
 },
 "nbformat": 4,
 "nbformat_minor": 2
}
