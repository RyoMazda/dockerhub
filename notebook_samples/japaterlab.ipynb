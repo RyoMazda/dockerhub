{
 "cells": [
  {
   "cell_type": "code",
   "execution_count": 1,
   "metadata": {},
   "outputs": [],
   "source": [
    "import MeCab"
   ]
  },
  {
   "cell_type": "code",
   "execution_count": 2,
   "metadata": {},
   "outputs": [],
   "source": [
    "unidic = MeCab.Tagger('-Owakati')\n",
    "ipadic = MeCab.Tagger('-Owakati -d /var/lib/mecab/dic/debian')\n",
    "neologd6 = MeCab.Tagger('-Owakati -d /opt/neologd-0.0.6')\n",
    "neologd = MeCab.Tagger('-Owakati -d /opt/neologd')"
   ]
  },
  {
   "cell_type": "code",
   "execution_count": 3,
   "metadata": {},
   "outputs": [
    {
     "name": "stdout",
     "output_type": "stream",
     "text": [
      "8 月 3 日 「 中居 正広 の 金曜 日 の スマイル たち へ 」 ( T B S 系 ) で 、 ぽっこりおなか を 解消 する と いう ダイエット 方法 を 紹介 。 \n",
      "\n",
      "8 月 3 日 「 中居 正広 の 金曜日 の スマイル たち へ 」( TBS 系 ) で 、 ぽ っ こり おなか を 解消 する という ダイエット 方法 を 紹介 。 \n",
      "\n",
      "8月3日 「 中居正広の金曜日のスマイルたちへ 」( TBS 系 ) で 、 ぽっこり おなか を 解消 する という ダイエット方法 を 紹介 。 \n",
      "\n",
      "8月3日 「 中居正広の金曜日のスマイルたちへ 」( TBS 系 ) で 、 ぽっこりおなか を 解消 する という ダイエット方法 を 紹介 。 \n",
      "\n"
     ]
    }
   ],
   "source": [
    "text = \"8月3日「中居正広の金曜日のスマイルたちへ」(TBS系)で、ぽっこりおなかを解消するというダイエット方法を紹介。\"\n",
    "\n",
    "print(unidic.parse(text))\n",
    "print(ipadic.parse(text))\n",
    "print(neologd6.parse(text))\n",
    "print(neologd.parse(text))"
   ]
  },
  {
   "cell_type": "code",
   "execution_count": 4,
   "metadata": {},
   "outputs": [
    {
     "name": "stdout",
     "output_type": "stream",
     "text": [
      "ソーシャル ディスタンス \n",
      "\n",
      "ソーシャルディスタンス \n",
      "\n",
      "ソーシャル ディスタンス \n",
      "\n",
      "ソーシャルディスタンス \n",
      "\n"
     ]
    }
   ],
   "source": [
    "text = \"ソーシャルディスタンス\"\n",
    "print(unidic.parse(text))\n",
    "print(ipadic.parse(text))\n",
    "print(neologd6.parse(text))\n",
    "print(neologd.parse(text))"
   ]
  },
  {
   "cell_type": "code",
   "execution_count": 5,
   "metadata": {},
   "outputs": [],
   "source": [
    "unidic = MeCab.Tagger()\n",
    "ipadic = MeCab.Tagger('-d /var/lib/mecab/dic/debian')\n",
    "neologd6 = MeCab.Tagger('-d /opt/neologd-0.0.6')\n",
    "neologd = MeCab.Tagger('-d /opt/neologd')"
   ]
  },
  {
   "cell_type": "code",
   "execution_count": 6,
   "metadata": {},
   "outputs": [
    {
     "name": "stdout",
     "output_type": "stream",
     "text": [
      "機械\tキカイ\tキカイ\t機械\t名詞-普通名詞-一般\t\t\t2\n",
      "学習\tガクシュー\tガクシュウ\t学習\t名詞-普通名詞-サ変可能\t\t\t0\n",
      "EOS\n",
      "\n",
      "機械\t名詞,一般,*,*,*,*,機械,キカイ,キカイ\n",
      "学習\t名詞,サ変接続,*,*,*,*,学習,ガクシュウ,ガクシュー\n",
      "EOS\n",
      "\n",
      "機械学習\t名詞,固有名詞,一般,*,*,*,機械学習,キカイガクシュウ,キカイガクシュー\n",
      "EOS\n",
      "\n",
      "機械学習\t名詞,固有名詞,一般,*,*,*,機械学習,キカイガクシュウ,キカイガクシュー\n",
      "EOS\n",
      "\n"
     ]
    }
   ],
   "source": [
    "text = \"機械学習\"\n",
    "print(unidic.parse(text))\n",
    "print(ipadic.parse(text))\n",
    "print(neologd6.parse(text))\n",
    "print(neologd.parse(text))"
   ]
  }
 ],
 "metadata": {
  "kernelspec": {
   "display_name": "Python 3",
   "language": "python",
   "name": "python3"
  },
  "language_info": {
   "codemirror_mode": {
    "name": "ipython",
    "version": 3
   },
   "file_extension": ".py",
   "mimetype": "text/x-python",
   "name": "python",
   "nbconvert_exporter": "python",
   "pygments_lexer": "ipython3",
   "version": "3.8.3"
  }
 },
 "nbformat": 4,
 "nbformat_minor": 4
}
