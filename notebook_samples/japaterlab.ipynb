{
 "cells": [
  {
   "cell_type": "code",
   "execution_count": 1,
   "metadata": {},
   "outputs": [],
   "source": [
    "import MeCab"
   ]
  },
  {
   "cell_type": "code",
   "execution_count": 2,
   "metadata": {},
   "outputs": [],
   "source": [
    "text = \"8月3日に放送された「中居正広の金曜日のスマイルたちへ」(TBS系)で、1日たった5分でぽっこりおなかを解消するというダイエット方法を紹介。キンタロー。のダイエットにも密着。\""
   ]
  },
  {
   "cell_type": "code",
   "execution_count": 3,
   "metadata": {},
   "outputs": [],
   "source": [
    "wakati = MeCab.Tagger('-Owakati')"
   ]
  },
  {
   "cell_type": "code",
   "execution_count": 4,
   "metadata": {},
   "outputs": [],
   "source": [
    "neologd = MeCab.Tagger('-Owakati -d /opt/neologd')"
   ]
  },
  {
   "cell_type": "code",
   "execution_count": 5,
   "metadata": {},
   "outputs": [],
   "source": [
    "neologd6 = MeCab.Tagger('-Owakati -d /opt/neologd-0.0.6')"
   ]
  },
  {
   "cell_type": "code",
   "execution_count": 6,
   "metadata": {},
   "outputs": [
    {
     "data": {
      "text/plain": [
       "['8',\n",
       " '月',\n",
       " '3',\n",
       " '日',\n",
       " 'に',\n",
       " '放送',\n",
       " 'さ',\n",
       " 'れ',\n",
       " 'た',\n",
       " '「',\n",
       " '中居',\n",
       " '正広',\n",
       " 'の',\n",
       " '金曜',\n",
       " '日',\n",
       " 'の',\n",
       " 'スマイル',\n",
       " 'たち',\n",
       " 'へ',\n",
       " '」',\n",
       " '(',\n",
       " 'T',\n",
       " 'B',\n",
       " 'S',\n",
       " '系',\n",
       " ')',\n",
       " 'で',\n",
       " '、',\n",
       " '1',\n",
       " '日',\n",
       " 'たっ',\n",
       " 'た',\n",
       " '5',\n",
       " '分',\n",
       " 'で',\n",
       " 'ぽっこりおなか',\n",
       " 'を',\n",
       " '解消',\n",
       " 'する',\n",
       " 'と',\n",
       " 'いう',\n",
       " 'ダイエット',\n",
       " '方法',\n",
       " 'を',\n",
       " '紹介',\n",
       " '。',\n",
       " 'キン',\n",
       " 'タロ',\n",
       " 'ー',\n",
       " '。',\n",
       " 'の',\n",
       " 'ダイエット',\n",
       " 'に',\n",
       " 'も',\n",
       " '密着',\n",
       " '。']"
      ]
     },
     "execution_count": 6,
     "metadata": {},
     "output_type": "execute_result"
    }
   ],
   "source": [
    "wakati.parse(text).split()"
   ]
  },
  {
   "cell_type": "code",
   "execution_count": 7,
   "metadata": {},
   "outputs": [
    {
     "data": {
      "text/plain": [
       "['8月3日',\n",
       " 'に',\n",
       " '放送',\n",
       " 'さ',\n",
       " 'れ',\n",
       " 'た',\n",
       " '「',\n",
       " '中居正広の金曜日のスマイルたちへ',\n",
       " '」(',\n",
       " 'TBS',\n",
       " '系',\n",
       " ')',\n",
       " 'で',\n",
       " '、',\n",
       " '1日',\n",
       " 'たった',\n",
       " '5分',\n",
       " 'で',\n",
       " 'ぽっこりおなか',\n",
       " 'を',\n",
       " '解消',\n",
       " 'する',\n",
       " 'という',\n",
       " 'ダイエット方法',\n",
       " 'を',\n",
       " '紹介',\n",
       " '。',\n",
       " 'キンタロー。',\n",
       " 'の',\n",
       " 'ダイエット',\n",
       " 'に',\n",
       " 'も',\n",
       " '密着',\n",
       " '。']"
      ]
     },
     "execution_count": 7,
     "metadata": {},
     "output_type": "execute_result"
    }
   ],
   "source": [
    "neologd.parse(text).split()"
   ]
  },
  {
   "cell_type": "code",
   "execution_count": 8,
   "metadata": {},
   "outputs": [
    {
     "data": {
      "text/plain": [
       "['ソーシャルディスタンス']"
      ]
     },
     "execution_count": 8,
     "metadata": {},
     "output_type": "execute_result"
    }
   ],
   "source": [
    "neologd.parse(\"ソーシャルディスタンス\").split()"
   ]
  },
  {
   "cell_type": "code",
   "execution_count": 9,
   "metadata": {},
   "outputs": [
    {
     "data": {
      "text/plain": [
       "['ソーシャル', 'ディスタンス']"
      ]
     },
     "execution_count": 9,
     "metadata": {},
     "output_type": "execute_result"
    }
   ],
   "source": [
    "neologd6.parse(\"ソーシャルディスタンス\").split()"
   ]
  }
 ],
 "metadata": {
  "kernelspec": {
   "display_name": "Python 3",
   "language": "python",
   "name": "python3"
  },
  "language_info": {
   "codemirror_mode": {
    "name": "ipython",
    "version": 3
   },
   "file_extension": ".py",
   "mimetype": "text/x-python",
   "name": "python",
   "nbconvert_exporter": "python",
   "pygments_lexer": "ipython3",
   "version": "3.8.3"
  }
 },
 "nbformat": 4,
 "nbformat_minor": 4
}
